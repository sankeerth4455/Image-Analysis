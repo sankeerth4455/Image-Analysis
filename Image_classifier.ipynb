{
  "nbformat": 4,
  "nbformat_minor": 0,
  "metadata": {
    "colab": {
      "provenance": []
    },
    "kernelspec": {
      "display_name": "Python 3",
      "name": "python3"
    },
    "language_info": {
      "name": "python"
    }
  },
  "cells": [
    {
      "cell_type": "markdown",
      "metadata": {
        "id": "ObbREp4iH1J4"
      },
      "source": [
        "## Group 10\n",
        "\n",
        "\n",
        "Keshav Yadav - 0770087\n",
        "\n",
        "Sri Sankeerth Koduru - 0768993\n",
        "\n",
        "Dilpreet Singh - 0771612\n",
        "\n",
        "Siva Sai Chaitanya Varma Sykam - 0770796"
      ]
    },
    {
      "cell_type": "markdown",
      "metadata": {
        "id": "5FnjfJ-1PH57"
      },
      "source": [
        "# Lab 4: Building an Image Classifier from Scratch\n",
        "\n",
        "The main goal of this lab is to create an image classifier from scratch using the Keras package. You will create a binary classifier based on an object type of your choice. The classifier will accept images and then predict whether or not a given image contains that object. For example, if you chose your object to be a cat, then the classifier would accept images and predict 1 if it believes there is a cat in the image or a 0 if not.\n",
        "\n",
        "You will build and train a classifier in two ways:\n",
        "- first using the original data set that you create, and\n",
        "- second, using data augmentation techniques.\n",
        "\n",
        "**Grading:**\n",
        "\n",
        "50% of the grade will come from error-free code that accomplishes all the steps outlined in the instructions for each part of this lab and written in Python/Keras. The other 50% will come from the comments associated with that code, where the comments explain what the code is doing and why it is important to the overall objective. Thus, comments like \"split the data\" or \"train the model\" would receive a grade of 0 as they do not indicate any understanding.\n",
        "\n",
        "**Research Required:**\n",
        "\n",
        "To complete this lab successfully you will need to some research. At the very least, you will need to implement the [`ImageDataGenerator` class](https://www.tensorflow.org/api_docs/python/tf/keras/preprocessing/image/ImageDataGenerator) and the [`.flow_from_directory` method](https://www.tensorflow.org/api_docs/python/tf/keras/preprocessing/image/ImageDataGenerator#flow_from_directory).\n",
        "\n",
        "**What to submit:**\n",
        "- A copy of this notebook with:\n",
        "    - Error-free code in Python/Keras\n",
        "    - All code cells executed and output visible\n",
        "- Include a zipped file of your images\n",
        "\n",
        "\n",
        "\n",
        "## Part 1: Prep Work\n",
        "### Choose an Object\n",
        "\n",
        "**You may choose any object other than a cat**. Try to think of an object that is readily available for taking pictures and, preferably, outdoors, as that will add to the natural variability to the data.\n",
        "\n",
        "### Create a Dataset\n",
        "\n",
        "Take 80 pictures of the chosen object and 80 pictures of other things that are not your object. Each group member should supply a roughly equal number of pictures so as to increase variability in your dataset.\n",
        "\n",
        "From these 160 images you will create a training set (50 object/50 not object), a validation set (15 object/15 not object), and a test set (15 object/15 not object).\n",
        "\n",
        "It's best if your dataset is diverse, so take pictures of the chosen **object** with, for example, different lighting, from different angles, different distances from camera, different examples of the same type of object. Similarly for the **not object** images: try to include a variety of objects in different ways."
      ]
    },
    {
      "cell_type": "code",
      "metadata": {
        "colab": {
          "base_uri": "https://localhost:8080/"
        },
        "id": "scbNzteEPKHZ",
        "outputId": "ac656b51-744f-4045-9c46-4aeb1795af5a"
      },
      "source": [
        "# Importing Packages\n",
        "from tensorflow.keras.preprocessing.image import load_img, img_to_array, smart_resize\n",
        "from sklearn.model_selection import train_test_split\n",
        "from tensorflow.keras.utils import to_categorical\n",
        "from tensorflow.keras.models import Sequential\n",
        "from keras.layers import Conv2D, MaxPooling2D,MaxPool2D\n",
        "from sklearn.metrics import confusion_matrix\n",
        "from tensorflow.keras.layers import Dense\n",
        "from keras.layers import Dense, Activation, Flatten, Dropout, BatchNormalization\n",
        "from keras import regularizers\n",
        "from pathlib import Path\n",
        "from tensorflow.keras.optimizers import Adam\n",
        "from keras.preprocessing.image import img_to_array\n",
        "from keras.preprocessing.image import ImageDataGenerator\n",
        "import tensorflow as tf\n",
        "import numpy as np\n",
        "import pandas as pd\n",
        "\n",
        "from google.colab import drive\n",
        "drive.mount('/content/drive')\n",
        "%cd /content/drive/My\\ Drive/Colab\\ Notebooks/"
      ],
      "execution_count": null,
      "outputs": [
        {
          "output_type": "stream",
          "name": "stdout",
          "text": [
            "Drive already mounted at /content/drive; to attempt to forcibly remount, call drive.mount(\"/content/drive\", force_remount=True).\n",
            "/content/drive/My Drive/Colab Notebooks\n"
          ]
        }
      ]
    },
    {
      "cell_type": "markdown",
      "metadata": {
        "id": "HgE6mF4vcc1c"
      },
      "source": [
        "## Part 2: Using the Original Data\n",
        "\n",
        "### Dataset Verification\n",
        "\n",
        "You should verify that the training, validation, and test sets have the correct number of images (the `os` functions should help with this) and that the data is organized in `train`, `validation`, and `test` folders.\n",
        "\n",
        "### Dataset Loading and Processing with Image Data Generators\n",
        "\n",
        "You should now create image data generators for your training, validation, and test datasets that will allow you to feed them into your model in batches. The images should be resized to 148x148 pixels and scaled so all pixel values are between 0 and 1.\n",
        "\n",
        "You should then use the training data generator to print out some examples of the training images and corresponding labels.\n",
        "\n",
        "### Create and Evaluate a Model\n",
        "\n",
        "Build a convolutional neural network and use the validation loss and accuracy to select the best architecture and hyperparameters so that you can maximize the validation accuracy.\n",
        "\n",
        "Any overfitting should be addressed; that is, if your model begins overfitting after epoch 3, you should not quote validation accuracy after epoch 15. And, appropriate attempts should be made to reduce/eliminate the overfitting to improve overall model generalizability.\n",
        "\n",
        "### Report Accuracy on Test Set\n",
        "\n",
        "Your final step is to make predictions using the test set and report the final test set accuracy."
      ]
    },
    {
      "cell_type": "code",
      "metadata": {
        "id": "rHtGdx4iQesm"
      },
      "source": [
        "# Finding the paths of the images\n",
        "def scan_folder(path, paths=[]):\n",
        "  images_path = Path(path)\n",
        "  for i in images_path.iterdir():\n",
        "    if i.is_dir():\n",
        "      scan_folder(i, paths)\n",
        "    else:\n",
        "      paths.append({'path': Path(i), 'category': str(i.parent)[4:].lower().strip()})\n",
        "  return paths\n",
        "\n",
        "images = scan_folder('./Lab4', [])"
      ],
      "execution_count": null,
      "outputs": []
    },
    {
      "cell_type": "code",
      "metadata": {
        "id": "_hRBckUF7TUv"
      },
      "source": [
        "# Creating image dataframe\n",
        "images_df = pd.DataFrame(images)"
      ],
      "execution_count": null,
      "outputs": []
    },
    {
      "cell_type": "code",
      "metadata": {
        "id": "8vj5YC_2V6OG",
        "colab": {
          "base_uri": "https://localhost:8080/",
          "height": 165
        },
        "outputId": "ff6533db-f7c2-42cf-d14f-0751ea89c5b1"
      },
      "source": [
        "# Loading the Images\n",
        "images_df['img'] = images_df.path.apply(lambda path: load_img(path, target_size=(148, 148)))\n",
        "\n",
        "images_df.img[0]"
      ],
      "execution_count": null,
      "outputs": [
        {
          "output_type": "execute_result",
          "data": {
            "image/png": "[encoded data removed]",
            "text/plain": [
              "<PIL.Image.Image image mode=RGB size=148x148 at 0x7F316BB3EF10>"
            ]
          },
          "metadata": {},
          "execution_count": 119
        }
      ]
    },
    {
      "cell_type": "code",
      "metadata": {
        "id": "pjh3bBQmW090",
        "colab": {
          "base_uri": "https://localhost:8080/"
        },
        "outputId": "58c22ce3-4357-40a7-b088-3a36584d363b"
      },
      "source": [
        "# Normalizing and converting data to a numpy array\n",
        "images = images_df.img.apply(lambda img: img_to_array(img, dtype='float32'))\n",
        "images = images.apply(lambda img: img.astype('float32')/255)\n",
        "print(images[0].shape)\n",
        "images = np.array(images.to_list())"
      ],
      "execution_count": null,
      "outputs": [
        {
          "output_type": "stream",
          "name": "stdout",
          "text": [
            "(148, 148, 3)\n"
          ]
        }
      ]
    },
    {
      "cell_type": "code",
      "metadata": {
        "id": "xr05Dak5ZvJB",
        "colab": {
          "base_uri": "https://localhost:8080/"
        },
        "outputId": "a8c3a0af-4b0b-42d9-d6d5-b44d4bb7176b"
      },
      "source": [
        "# encoding the categories\n",
        "print(images_df['category'])\n",
        "categories = {label : idx for idx, label in enumerate(images_df.category.unique())}\n",
        "categories\n",
        "images_df.category = images_df.category.apply(lambda x: categories[x])\n",
        "category = to_categorical(images_df.category)\n",
        "print(category[0:5])"
      ],
      "execution_count": null,
      "outputs": [
        {
          "output_type": "stream",
          "name": "stdout",
          "text": [
            "0       /other\n",
            "1       /other\n",
            "2       /other\n",
            "3       /other\n",
            "4       /other\n",
            "        ...   \n",
            "155    /object\n",
            "156    /object\n",
            "157    /object\n",
            "158    /object\n",
            "159    /object\n",
            "Name: category, Length: 160, dtype: object\n",
            "[[1. 0.]\n",
            " [1. 0.]\n",
            " [1. 0.]\n",
            " [1. 0.]\n",
            " [1. 0.]]\n"
          ]
        }
      ]
    },
    {
      "cell_type": "code",
      "metadata": {
        "id": "lDGuodUkPQoH"
      },
      "source": [
        "# Creating training data with 100 samples(50 of each by using the stratified method), validation data with 30 samples(15 of each by using the stratified method) and testing data(15 of each by using the stratified method)\n",
        "x_train, x, y_train, y = train_test_split(images, category, test_size=0.375, random_state=411, stratify=category)\n",
        "x_val, x_test, y_val, y_test = train_test_split(x, y, test_size=0.5, random_state=411, stratify=y)"
      ],
      "execution_count": null,
      "outputs": []
    },
    {
      "cell_type": "code",
      "metadata": {
        "colab": {
          "base_uri": "https://localhost:8080/"
        },
        "id": "UnJomUqZynDd",
        "outputId": "e1ba83a3-dd7d-46f0-925c-04cae56e9239"
      },
      "source": [
        "# Training length\n",
        "len(x_train)"
      ],
      "execution_count": null,
      "outputs": [
        {
          "output_type": "execute_result",
          "data": {
            "text/plain": [
              "100"
            ]
          },
          "metadata": {},
          "execution_count": 123
        }
      ]
    },
    {
      "cell_type": "code",
      "metadata": {
        "colab": {
          "base_uri": "https://localhost:8080/"
        },
        "id": "b5zTUsMyypwZ",
        "outputId": "c55a29c0-e708-4976-f155-f639c316394f"
      },
      "source": [
        "# Validation length\n",
        "len(x_val)"
      ],
      "execution_count": null,
      "outputs": [
        {
          "output_type": "execute_result",
          "data": {
            "text/plain": [
              "30"
            ]
          },
          "metadata": {},
          "execution_count": 124
        }
      ]
    },
    {
      "cell_type": "code",
      "metadata": {
        "colab": {
          "base_uri": "https://localhost:8080/"
        },
        "id": "pJlOmtIpys2n",
        "outputId": "705e1e56-feb4-48ad-95a0-abae5f733deb"
      },
      "source": [
        "# Testing length\n",
        "len(x_test)"
      ],
      "execution_count": null,
      "outputs": [
        {
          "output_type": "execute_result",
          "data": {
            "text/plain": [
              "30"
            ]
          },
          "metadata": {},
          "execution_count": 125
        }
      ]
    },
    {
      "cell_type": "code",
      "metadata": {
        "colab": {
          "base_uri": "https://localhost:8080/"
        },
        "id": "s8Jh82kgLiRK",
        "outputId": "d163ea2f-b1b1-42af-86c9-0476f0e1211a"
      },
      "source": [
        "# Looking at an image\n",
        "x_train[1]"
      ],
      "execution_count": null,
      "outputs": [
        {
          "output_type": "execute_result",
          "data": {
            "text/plain": [
              "array([[[0.07058824, 0.02745098, 0.01176471],\n",
              "        [0.06666667, 0.03137255, 0.01176471],\n",
              "        [0.06666667, 0.03137255, 0.01176471],\n",
              "        ...,\n",
              "        [0.06666667, 0.03921569, 0.00784314],\n",
              "        [0.0627451 , 0.04705882, 0.01176471],\n",
              "        [0.08627451, 0.05098039, 0.03137255]],\n",
              "\n",
              "       [[0.07450981, 0.03921569, 0.01960784],\n",
              "        [0.05490196, 0.01960784, 0.        ],\n",
              "        [0.0627451 , 0.02745098, 0.00784314],\n",
              "        ...,\n",
              "        [0.07450981, 0.04705882, 0.02352941],\n",
              "        [0.06666667, 0.04705882, 0.02352941],\n",
              "        [0.07843138, 0.03921569, 0.03137255]],\n",
              "\n",
              "       [[0.05098039, 0.01568628, 0.        ],\n",
              "        [0.05882353, 0.02352941, 0.00392157],\n",
              "        [0.05882353, 0.02352941, 0.00392157],\n",
              "        ...,\n",
              "        [0.0627451 , 0.04313726, 0.01960784],\n",
              "        [0.06666667, 0.04705882, 0.02352941],\n",
              "        [0.07450981, 0.04313726, 0.03137255]],\n",
              "\n",
              "       ...,\n",
              "\n",
              "       [[0.04705882, 0.03921569, 0.        ],\n",
              "        [0.04705882, 0.03921569, 0.        ],\n",
              "        [0.04705882, 0.03921569, 0.        ],\n",
              "        ...,\n",
              "        [0.10980392, 0.07058824, 0.03137255],\n",
              "        [0.09019608, 0.04313726, 0.        ],\n",
              "        [0.03921569, 0.        , 0.        ]],\n",
              "\n",
              "       [[0.04705882, 0.03921569, 0.        ],\n",
              "        [0.05490196, 0.04705882, 0.        ],\n",
              "        [0.05490196, 0.04705882, 0.        ],\n",
              "        ...,\n",
              "        [0.09019608, 0.0627451 , 0.02352941],\n",
              "        [0.10196079, 0.06666667, 0.03137255],\n",
              "        [0.        , 0.01960784, 0.03921569]],\n",
              "\n",
              "       [[0.05098039, 0.03529412, 0.        ],\n",
              "        [0.05882353, 0.04313726, 0.        ],\n",
              "        [0.05882353, 0.04313726, 0.        ],\n",
              "        ...,\n",
              "        [0.05882353, 0.03921569, 0.01568628],\n",
              "        [0.07843138, 0.05098039, 0.01960784],\n",
              "        [0.08235294, 0.0627451 , 0.03921569]]], dtype=float32)"
            ]
          },
          "metadata": {},
          "execution_count": 126
        }
      ]
    },
    {
      "cell_type": "code",
      "metadata": {
        "colab": {
          "base_uri": "https://localhost:8080/"
        },
        "id": "_oLQ1fvHLonL",
        "outputId": "8f584665-b7b3-49d6-dbae-c7a6af238c67"
      },
      "source": [
        "# Shape of the images and categories\n",
        "print(x_train.shape)\n",
        "print(y_train.shape)"
      ],
      "execution_count": null,
      "outputs": [
        {
          "output_type": "stream",
          "name": "stdout",
          "text": [
            "(100, 148, 148, 3)\n",
            "(100, 2)\n"
          ]
        }
      ]
    },
    {
      "cell_type": "code",
      "metadata": {
        "id": "tTnWvbBWiHBf",
        "colab": {
          "base_uri": "https://localhost:8080/"
        },
        "outputId": "5e83c263-fbea-4323-d6ca-7bbe5a5bbae6"
      },
      "source": [
        "# Creating and fitting the model\n",
        "tf.random.set_seed(411)\n",
        "\n",
        "model=Sequential()\n",
        "model.add(Conv2D(filters=64,kernel_size=(3,3), input_shape=(148, 148, 3), activation='relu'))\n",
        "model.add(MaxPool2D(pool_size=(2,2)))\n",
        "model.add(Dropout(0.2))\n",
        "model.add(Conv2D(filters=128,kernel_size=(3,3),activation='relu'))\n",
        "model.add(MaxPool2D(pool_size=(2,2)))\n",
        "model.add(Flatten())\n",
        "model.add(Dense(64,activation='relu'))\n",
        "model.add(Dropout(0.2))\n",
        "model.add(Dense(32,activation='relu'))\n",
        "model.add(Dense(2,activation='softmax'))\n",
        "\n",
        "model.compile(optimizer=Adam(learning_rate=0.001),\n",
        "              loss='binary_crossentropy',\n",
        "              metrics=['accuracy'])\n",
        "\n",
        "history=model.fit(x_train, y_train, epochs=15,batch_size = 10, verbose=1)"
      ],
      "execution_count": null,
      "outputs": [
        {
          "output_type": "stream",
          "name": "stdout",
          "text": [
            "Epoch 1/15\n",
            "10/10 [==============================] - 7s 688ms/step - loss: 1.0810 - accuracy: 0.5100\n",
            "Epoch 2/15\n",
            "10/10 [==============================] - 7s 671ms/step - loss: 0.6933 - accuracy: 0.5500\n",
            "Epoch 3/15\n",
            "10/10 [==============================] - 7s 668ms/step - loss: 0.6606 - accuracy: 0.5800\n",
            "Epoch 4/15\n",
            "10/10 [==============================] - 7s 670ms/step - loss: 0.5373 - accuracy: 0.7900\n",
            "Epoch 5/15\n",
            "10/10 [==============================] - 7s 673ms/step - loss: 0.3898 - accuracy: 0.8600\n",
            "Epoch 6/15\n",
            "10/10 [==============================] - 7s 675ms/step - loss: 0.2051 - accuracy: 0.9300\n",
            "Epoch 7/15\n",
            "10/10 [==============================] - 7s 670ms/step - loss: 0.2071 - accuracy: 0.9700\n",
            "Epoch 8/15\n",
            "10/10 [==============================] - 7s 680ms/step - loss: 0.0990 - accuracy: 0.9700\n",
            "Epoch 9/15\n",
            "10/10 [==============================] - 7s 679ms/step - loss: 0.0647 - accuracy: 1.0000\n",
            "Epoch 10/15\n",
            "10/10 [==============================] - 7s 673ms/step - loss: 0.0389 - accuracy: 0.9900\n",
            "Epoch 11/15\n",
            "10/10 [==============================] - 7s 676ms/step - loss: 0.0951 - accuracy: 0.9700\n",
            "Epoch 12/15\n",
            "10/10 [==============================] - 7s 671ms/step - loss: 0.1504 - accuracy: 0.9400\n",
            "Epoch 13/15\n",
            "10/10 [==============================] - 7s 671ms/step - loss: 0.0334 - accuracy: 0.9900\n",
            "Epoch 14/15\n",
            "10/10 [==============================] - 7s 678ms/step - loss: 0.0473 - accuracy: 0.9900\n",
            "Epoch 15/15\n",
            "10/10 [==============================] - 7s 678ms/step - loss: 0.0512 - accuracy: 0.9900\n"
          ]
        }
      ]
    },
    {
      "cell_type": "code",
      "metadata": {
        "colab": {
          "base_uri": "https://localhost:8080/"
        },
        "id": "L0NKaJQ9BIm3",
        "outputId": "abb0714b-9a15-434c-e096-5d4438e42fae"
      },
      "source": [
        "# The validatioin score\n",
        "valscore = model.evaluate(x_val, y_val)\n",
        "print(valscore)"
      ],
      "execution_count": null,
      "outputs": [
        {
          "output_type": "stream",
          "name": "stdout",
          "text": [
            "1/1 [==============================] - 1s 585ms/step - loss: 0.5114 - accuracy: 0.9000\n",
            "[0.5114274024963379, 0.8999999761581421]\n"
          ]
        }
      ]
    },
    {
      "cell_type": "code",
      "metadata": {
        "colab": {
          "base_uri": "https://localhost:8080/"
        },
        "id": "V0iTCI4kBLEx",
        "outputId": "2b676274-2965-4a0d-a7a2-2bc6f314c1a0"
      },
      "source": [
        "# The testing score\n",
        "testscore = model.evaluate(x_test, y_test)\n",
        "print(testscore)"
      ],
      "execution_count": null,
      "outputs": [
        {
          "output_type": "stream",
          "name": "stdout",
          "text": [
            "1/1 [==============================] - 0s 495ms/step - loss: 0.5720 - accuracy: 0.8333\n",
            "[0.571974515914917, 0.8333333134651184]\n"
          ]
        }
      ]
    },
    {
      "cell_type": "markdown",
      "metadata": {
        "id": "neMMqQf7PRXC"
      },
      "source": [
        "## Part 3: Using Data Augmentation\n",
        "\n",
        "### Dataset Verification\n",
        "\n",
        "You should verify that the training, validation, and test sets have the correct number of images (the `os` functions should help with this) and that the data is organized in a folder structure that will work with your image data generators.\n",
        "\n",
        "### Dataset Loading and Processing with Create Image Data Generators\n",
        "\n",
        "You should now create image data generators for your training, validation, and test datasets that will allow you to feed them into your model in batches. The images should be resized to 148x148 pixels and scaled so all pixel values are between 0 and 1.\n",
        "\n",
        "### Add Data Augmentation\n",
        "\n",
        "You should now add data augmentation to your training data generator. All available types of augmentation should be used.\n",
        "\n",
        "Print an image and examples of the same image augmented in different ways. (The `.load_img()` and [`.flow()` method](https://www.tensorflow.org/api_docs/python/tf/keras/preprocessing/image/ImageDataGenerator#flow) may be helpful here.)\n",
        "\n",
        "### Create and Evaluate a Baseline Model\n",
        "\n",
        "Use the best model from **Part 2** to train with the augmented data and evaluate on the validation data to get a baseline accuracy for the new model trained on the augmented dataset.\n",
        "\n",
        "### Tune the Model\n",
        "\n",
        "With a more complex training set, you may be able to improve the accuracy through adjustments to the baseline model architecture and tuning the hyperparameters.\n",
        "\n",
        "### Report Accuracy on Test Set\n",
        "\n",
        "Your final step is to make predictions using the test set and report the final test set accuracy."
      ]
    },
    {
      "cell_type": "code",
      "metadata": {
        "id": "TP7Bdi9Gz0Gh"
      },
      "source": [
        "# Augmentation of the data\n",
        "image2 = images_df['img']\n",
        "image2 = image2.apply(lambda x : img_to_array(x))\n",
        "image2 = np.array(image2.to_list())\n",
        "Image_generator = ImageDataGenerator(\n",
        "        rescale=1./255,\n",
        "        shear_range=0.2,\n",
        "        horizontal_flip=True)\n",
        "image2 = Image_generator.flow(image2, batch_size=1, seed=411)"
      ],
      "execution_count": null,
      "outputs": []
    },
    {
      "cell_type": "code",
      "metadata": {
        "id": "rkBXL1RX104w"
      },
      "source": [
        "# converting data into a list\n",
        "images3 = [image2.next()[0] for i in range(len(image2))]"
      ],
      "execution_count": null,
      "outputs": []
    },
    {
      "cell_type": "code",
      "metadata": {
        "id": "SVmDnZI_9pGq"
      },
      "source": [
        "# converting data into a numpy array\n",
        "images3 = np.array(images3)"
      ],
      "execution_count": null,
      "outputs": []
    },
    {
      "cell_type": "code",
      "metadata": {
        "colab": {
          "base_uri": "https://localhost:8080/"
        },
        "id": "bmWGzq0f99Lw",
        "outputId": "0c1cfc2c-5cd1-40e0-938f-861fe6c87f1a"
      },
      "source": [
        "# shape of the new images\n",
        "images3.shape"
      ],
      "execution_count": null,
      "outputs": [
        {
          "output_type": "execute_result",
          "data": {
            "text/plain": [
              "(160, 148, 148, 3)"
            ]
          },
          "metadata": {},
          "execution_count": 134
        }
      ]
    },
    {
      "cell_type": "code",
      "metadata": {
        "id": "KZII1rFG5Wo1"
      },
      "source": [
        "# Creating training data with 100 samples(50 of each by using the stratified method), validation data with 30 samples(15 of each by using the stratified method) and testing data(15 of each by using the stratified method)\n",
        "x_train1, x1, y_train1, y1 = train_test_split(images3, category, test_size=0.375, random_state=411, stratify=category)\n",
        "x_val1, x_test1, y_val1, y_test1 = train_test_split(x1, y1, test_size=0.5, random_state=411, stratify=y1)"
      ],
      "execution_count": null,
      "outputs": []
    },
    {
      "cell_type": "code",
      "metadata": {
        "colab": {
          "base_uri": "https://localhost:8080/"
        },
        "id": "Eja-U7qbGhLN",
        "outputId": "bb655a3d-900e-4d59-b16f-a10836510b94"
      },
      "source": [
        "# Looking at an image\n",
        "x_train1[1]"
      ],
      "execution_count": null,
      "outputs": [
        {
          "output_type": "execute_result",
          "data": {
            "text/plain": [
              "array([[[1., 1., 1.],\n",
              "        [1., 1., 1.],\n",
              "        [1., 1., 1.],\n",
              "        ...,\n",
              "        [1., 1., 1.],\n",
              "        [1., 1., 1.],\n",
              "        [1., 1., 1.]],\n",
              "\n",
              "       [[1., 1., 1.],\n",
              "        [1., 1., 1.],\n",
              "        [1., 1., 1.],\n",
              "        ...,\n",
              "        [1., 1., 1.],\n",
              "        [1., 1., 1.],\n",
              "        [1., 1., 1.]],\n",
              "\n",
              "       [[1., 1., 1.],\n",
              "        [1., 1., 1.],\n",
              "        [1., 1., 1.],\n",
              "        ...,\n",
              "        [1., 1., 1.],\n",
              "        [1., 1., 1.],\n",
              "        [1., 1., 1.]],\n",
              "\n",
              "       ...,\n",
              "\n",
              "       [[1., 1., 1.],\n",
              "        [1., 1., 1.],\n",
              "        [1., 1., 1.],\n",
              "        ...,\n",
              "        [1., 1., 1.],\n",
              "        [1., 1., 1.],\n",
              "        [1., 1., 1.]],\n",
              "\n",
              "       [[1., 1., 1.],\n",
              "        [1., 1., 1.],\n",
              "        [1., 1., 1.],\n",
              "        ...,\n",
              "        [1., 1., 1.],\n",
              "        [1., 1., 1.],\n",
              "        [1., 1., 1.]],\n",
              "\n",
              "       [[1., 1., 1.],\n",
              "        [1., 1., 1.],\n",
              "        [1., 1., 1.],\n",
              "        ...,\n",
              "        [1., 1., 1.],\n",
              "        [1., 1., 1.],\n",
              "        [1., 1., 1.]]], dtype=float32)"
            ]
          },
          "metadata": {},
          "execution_count": 136
        }
      ]
    },
    {
      "cell_type": "code",
      "metadata": {
        "colab": {
          "base_uri": "https://localhost:8080/"
        },
        "id": "rhkq9zGq5jUW",
        "outputId": "7f572ba9-828f-4f08-a4f6-e1a4adb22af7"
      },
      "source": [
        "# Creating and fitting the model from section 2\n",
        "tf.random.set_seed(411)\n",
        "\n",
        "model=Sequential()\n",
        "model.add(Conv2D(filters=64,kernel_size=(3,3), input_shape=(148, 148, 3), activation='relu'))\n",
        "model.add(MaxPool2D(pool_size=(2,2)))\n",
        "model.add(Dropout(0.2))\n",
        "model.add(Conv2D(filters=128,kernel_size=(3,3),activation='relu'))\n",
        "model.add(MaxPool2D(pool_size=(2,2)))\n",
        "model.add(Flatten())\n",
        "model.add(Dense(64,activation='relu'))\n",
        "model.add(Dropout(0.2))\n",
        "model.add(Dense(32,activation='relu'))\n",
        "model.add(Dense(2,activation='softmax'))\n",
        "\n",
        "model.compile(optimizer=Adam(learning_rate=0.001),\n",
        "              loss='binary_crossentropy',\n",
        "              metrics=['accuracy'])\n",
        "\n",
        "history=model.fit(x_train1, y_train1, epochs=15,batch_size = 10, verbose=1)"
      ],
      "execution_count": null,
      "outputs": [
        {
          "output_type": "stream",
          "name": "stdout",
          "text": [
            "Epoch 1/15\n",
            "10/10 [==============================] - 7s 689ms/step - loss: 1.1545 - accuracy: 0.4700\n",
            "Epoch 2/15\n",
            "10/10 [==============================] - 7s 675ms/step - loss: 0.6935 - accuracy: 0.4200\n",
            "Epoch 3/15\n",
            "10/10 [==============================] - 7s 672ms/step - loss: 0.6926 - accuracy: 0.5200\n",
            "Epoch 4/15\n",
            "10/10 [==============================] - 7s 676ms/step - loss: 0.6926 - accuracy: 0.5100\n",
            "Epoch 5/15\n",
            "10/10 [==============================] - 7s 670ms/step - loss: 0.6753 - accuracy: 0.6300\n",
            "Epoch 6/15\n",
            "10/10 [==============================] - 7s 675ms/step - loss: 0.6483 - accuracy: 0.6700\n",
            "Epoch 7/15\n",
            "10/10 [==============================] - 7s 675ms/step - loss: 0.5666 - accuracy: 0.7300\n",
            "Epoch 8/15\n",
            "10/10 [==============================] - 7s 678ms/step - loss: 0.4429 - accuracy: 0.8300\n",
            "Epoch 9/15\n",
            "10/10 [==============================] - 7s 678ms/step - loss: 0.3465 - accuracy: 0.8500\n",
            "Epoch 10/15\n",
            "10/10 [==============================] - 7s 678ms/step - loss: 0.2419 - accuracy: 0.9300\n",
            "Epoch 11/15\n",
            "10/10 [==============================] - 7s 682ms/step - loss: 0.1526 - accuracy: 0.9700\n",
            "Epoch 12/15\n",
            "10/10 [==============================] - 7s 686ms/step - loss: 0.1258 - accuracy: 0.9600\n",
            "Epoch 13/15\n",
            "10/10 [==============================] - 7s 680ms/step - loss: 0.1052 - accuracy: 0.9600\n",
            "Epoch 14/15\n",
            "10/10 [==============================] - 7s 681ms/step - loss: 0.0517 - accuracy: 0.9900\n",
            "Epoch 15/15\n",
            "10/10 [==============================] - 7s 681ms/step - loss: 0.0709 - accuracy: 0.9800\n"
          ]
        }
      ]
    },
    {
      "cell_type": "code",
      "metadata": {
        "colab": {
          "base_uri": "https://localhost:8080/"
        },
        "id": "rT7sx7bDEjej",
        "outputId": "02c033fb-aec6-4d22-f5f4-75a0851fcc81"
      },
      "source": [
        "# The validatioin score\n",
        "valscore1 = model.evaluate(x_val1, y_val1)\n",
        "print(valscore1)"
      ],
      "execution_count": null,
      "outputs": [
        {
          "output_type": "stream",
          "name": "stdout",
          "text": [
            "1/1 [==============================] - 1s 643ms/step - loss: 1.7701 - accuracy: 0.4667\n",
            "[1.770092487335205, 0.46666666865348816]\n"
          ]
        }
      ]
    },
    {
      "cell_type": "code",
      "metadata": {
        "colab": {
          "base_uri": "https://localhost:8080/"
        },
        "id": "8WSGq82wEj_k",
        "outputId": "e7730296-4342-4fcf-b76b-29a749d1027b"
      },
      "source": [
        "# Testing Score\n",
        "testscore1 = model.evaluate(x_test1, y_test1)\n",
        "print(testscore1)"
      ],
      "execution_count": null,
      "outputs": [
        {
          "output_type": "stream",
          "name": "stdout",
          "text": [
            "1/1 [==============================] - 0s 492ms/step - loss: 1.9655 - accuracy: 0.5000\n",
            "[1.965489149093628, 0.5]\n"
          ]
        }
      ]
    },
    {
      "cell_type": "code",
      "metadata": {
        "colab": {
          "base_uri": "https://localhost:8080/"
        },
        "id": "fGo76GL1MoZy",
        "outputId": "481afdb6-5362-4747-8310-4e051394cdaf"
      },
      "source": [
        "# Improving Model\n",
        "tf.random.set_seed(411)\n",
        "\n",
        "model=Sequential()\n",
        "model.add(Conv2D(filters=64,kernel_size=(3,3), input_shape=(148, 148, 3), activation='relu'))\n",
        "model.add(MaxPool2D(pool_size=(2,2)))\n",
        "model.add(Dropout(0.2))\n",
        "model.add(Conv2D(filters=64,kernel_size=(3,3),activation='relu'))\n",
        "model.add(MaxPool2D(pool_size=(2,2)))\n",
        "model.add(Flatten())\n",
        "model.add(Dense(32,activation='relu'))\n",
        "model.add(Dropout(0.2))\n",
        "model.add(Dense(16,activation='relu'))\n",
        "model.add(Dense(2,activation='softmax'))\n",
        "\n",
        "model.compile(optimizer=Adam(learning_rate=0.001),\n",
        "              loss='binary_crossentropy',\n",
        "              metrics=['accuracy'])\n",
        "\n",
        "history=model.fit(x_train1, y_train1, epochs=12,batch_size = 10, verbose=1)"
      ],
      "execution_count": null,
      "outputs": [
        {
          "output_type": "stream",
          "name": "stdout",
          "text": [
            "Epoch 1/12\n",
            "10/10 [==============================] - 5s 475ms/step - loss: 1.0069 - accuracy: 0.3700\n",
            "Epoch 2/12\n",
            "10/10 [==============================] - 5s 471ms/step - loss: 0.6919 - accuracy: 0.5800\n",
            "Epoch 3/12\n",
            "10/10 [==============================] - 5s 466ms/step - loss: 0.6841 - accuracy: 0.6500\n",
            "Epoch 4/12\n",
            "10/10 [==============================] - 5s 468ms/step - loss: 0.6823 - accuracy: 0.6100\n",
            "Epoch 5/12\n",
            "10/10 [==============================] - 5s 468ms/step - loss: 0.6551 - accuracy: 0.6500\n",
            "Epoch 6/12\n",
            "10/10 [==============================] - 5s 471ms/step - loss: 0.6417 - accuracy: 0.6700\n",
            "Epoch 7/12\n",
            "10/10 [==============================] - 5s 471ms/step - loss: 0.6119 - accuracy: 0.7200\n",
            "Epoch 8/12\n",
            "10/10 [==============================] - 5s 471ms/step - loss: 0.5398 - accuracy: 0.7200\n",
            "Epoch 9/12\n",
            "10/10 [==============================] - 5s 470ms/step - loss: 0.4651 - accuracy: 0.8300\n",
            "Epoch 10/12\n",
            "10/10 [==============================] - 5s 468ms/step - loss: 0.4198 - accuracy: 0.8900\n",
            "Epoch 11/12\n",
            "10/10 [==============================] - 5s 471ms/step - loss: 0.3045 - accuracy: 0.9200\n",
            "Epoch 12/12\n",
            "10/10 [==============================] - 5s 471ms/step - loss: 0.2186 - accuracy: 0.9600\n"
          ]
        }
      ]
    },
    {
      "cell_type": "code",
      "metadata": {
        "colab": {
          "base_uri": "https://localhost:8080/"
        },
        "id": "jer8v_VyM0Ab",
        "outputId": "efe1fdca-5dfc-4fb4-f1b8-2bf2f3a0b2e8"
      },
      "source": [
        "# The validatioin score\n",
        "valscore2 = model.evaluate(x_val1, y_val1)\n",
        "print(valscore2)"
      ],
      "execution_count": null,
      "outputs": [
        {
          "output_type": "stream",
          "name": "stdout",
          "text": [
            "1/1 [==============================] - 0s 441ms/step - loss: 0.9888 - accuracy: 0.3667\n",
            "[0.9887588024139404, 0.36666667461395264]\n"
          ]
        }
      ]
    },
    {
      "cell_type": "code",
      "metadata": {
        "colab": {
          "base_uri": "https://localhost:8080/"
        },
        "id": "9GIULDmAM3vk",
        "outputId": "be58ca87-f578-4cdf-b0c9-68a71427d02b"
      },
      "source": [
        "# Testing Score\n",
        "testscore2 = model.evaluate(x_test1, y_test1)\n",
        "print(testscore2)"
      ],
      "execution_count": null,
      "outputs": [
        {
          "output_type": "stream",
          "name": "stdout",
          "text": [
            "1/1 [==============================] - 0s 314ms/step - loss: 0.8286 - accuracy: 0.6000\n",
            "[0.8285781741142273, 0.6000000238418579]\n"
          ]
        }
      ]
    },
    {
      "cell_type": "markdown",
      "metadata": {
        "id": "hUIkNSU0QE0O"
      },
      "source": [
        "##### The test set before after augmentation is 83.33%\n",
        "##### The test set accuracy after augmentation with the part 2 code is 50%\n",
        "##### The final test set accuracy after augmentation is 60%"
      ]
    }
  ]
}